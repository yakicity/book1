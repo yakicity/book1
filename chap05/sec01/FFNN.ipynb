{
 "cells": [
  {
   "cell_type": "code",
   "execution_count": 1,
   "metadata": {},
   "outputs": [],
   "source": [
    "import numpy as np\n",
    "\n",
    "def sigmoid(x):\n",
    "    '''シグモイド関数\n",
    "    \n",
    "    Parameters:\n",
    "      x(array): レイヤーへの入力値\n",
    "    '''\n",
    "    return 1 / (1 + np.exp(-x))\n",
    "\n",
    "def identity_function(x):\n",
    "    '''恒等関数\n",
    "    \n",
    "    Parameters:\n",
    "      x(array): レイヤーへの入力値\n",
    "    '''\n",
    "    return x\n",
    "\n",
    "def init_paraml():\n",
    "    '''重みとバイアスの初期化を行う\n",
    "    \n",
    "    '''\n",
    "    parameters = {}\n",
    "    # 入力層→第1層\n",
    "    # 第1層のニューロン数＝3\n",
    "    parameters['W1'] = np.array([[0.1, 0.3, 0.5],\n",
    "                                 [0.2, 0.4, 0.6]])\n",
    "    # 第1層のバイアス\n",
    "    parameters['b1'] = np.array([0.1, 0.2, 0.3])\n",
    "    \n",
    "    # 第1層→第2層\n",
    "    # 第2層のニューロン数＝2\n",
    "    parameters['W2'] = np.array([[0.1, 0.4],\n",
    "                                 [0.2, 0.5],\n",
    "                                 [0.3, 0.6]])\n",
    "    # 第2層のバイアス\n",
    "    parameters['b2'] = np.array([0.1, 0.2])\n",
    "    \n",
    "    # 第2層→出力層\n",
    "    # 出力層のニューロン数＝2\n",
    "    parameters['W3'] = np.array([[0.1, 0.3],\n",
    "                                 [0.2, 0.4]])\n",
    "    # 出力層のバイアス\n",
    "    parameters['b3'] = np.array([0.1, 0.2])\n",
    "    \n",
    "    return parameters"
   ]
  },
  {
   "cell_type": "code",
   "execution_count": 2,
   "metadata": {},
   "outputs": [],
   "source": [
    "# 重みとバイアスを初期化して行列とベクトルに格納\n",
    "param = init_paraml()\n",
    "W1, W2, W3 = param['W1'], param['W2'], param['W3']\n",
    "b1, b2, b3 = param['b1'], param['b2'], param['b3'] "
   ]
  },
  {
   "cell_type": "code",
   "execution_count": 3,
   "metadata": {},
   "outputs": [
    {
     "name": "stdout",
     "output_type": "stream",
     "text": [
      "[1.  0.5]\n"
     ]
    }
   ],
   "source": [
    "# 入力層の信号\n",
    "x = np.array([1.0, 0.5])\n",
    "print(x)   # [1.  0.5]"
   ]
  },
  {
   "cell_type": "code",
   "execution_count": 4,
   "metadata": {},
   "outputs": [
    {
     "name": "stdout",
     "output_type": "stream",
     "text": [
      "[0.3 0.7 1.1]\n",
      "[0.57444252 0.66818777 0.75026011]\n"
     ]
    }
   ],
   "source": [
    "# 第1層\n",
    "a1 = np.dot(x, W1) + b1 # 入力層からの重み付き信号\n",
    "print(a1)               #  [0.3 0.7 1.1]\n",
    "z1 = sigmoid(a1)        # シグモイド関数を適用して出力する\n",
    "print(z1)               # [0.57444252 0.66818777 0.75026011]"
   ]
  },
  {
   "cell_type": "code",
   "execution_count": 5,
   "metadata": {},
   "outputs": [
    {
     "name": "stdout",
     "output_type": "stream",
     "text": [
      "[0.51615984 1.21402696]\n",
      "[0.62624937 0.7710107 ]\n"
     ]
    }
   ],
   "source": [
    "# 第2層\n",
    "a2 = np.dot(z1, W2) + b2 # 第1層からの重み付き信号\n",
    "print(a2)                #  [0.51615984  1.21402696]\n",
    "z2 = sigmoid(a2)         # シグモイド関数を適用して出力する\n",
    "print(z2)                # [0.62624937   0.7710107 ]"
   ]
  },
  {
   "cell_type": "code",
   "execution_count": 6,
   "metadata": {},
   "outputs": [
    {
     "name": "stdout",
     "output_type": "stream",
     "text": [
      "[0.31682708 0.69627909]\n",
      "[0.31682708 0.69627909]\n"
     ]
    }
   ],
   "source": [
    "# 第3層\n",
    "a3 = np.dot(z2, W3) + b3  # 第2層からの重み付き信号\n",
    "print(a3)                 #  [0.31682708  0.69627909]\n",
    "y = identity_function(a3) # 恒等関数を適用して出力する\n",
    "print(y)                  # [0.31682708   0.69627909]"
   ]
  },
  {
   "cell_type": "code",
   "execution_count": null,
   "metadata": {},
   "outputs": [],
   "source": []
  }
 ],
 "metadata": {
  "kernelspec": {
   "display_name": "Python 3",
   "language": "python",
   "name": "python3"
  },
  "language_info": {
   "codemirror_mode": {
    "name": "ipython",
    "version": 3
   },
   "file_extension": ".py",
   "mimetype": "text/x-python",
   "name": "python",
   "nbconvert_exporter": "python",
   "pygments_lexer": "ipython3",
   "version": "3.8.5"
  }
 },
 "nbformat": 4,
 "nbformat_minor": 2
}
