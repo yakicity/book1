{
 "cells": [
  {
   "cell_type": "code",
   "execution_count": 1,
   "metadata": {
    "scrolled": true
   },
   "outputs": [],
   "source": [
    "%matplotlib inline\n",
    "import numpy as np              # numpyのインポート\n",
    "import matplotlib.pyplot as plt # matplotlib.pylabをpltとして使用する\n",
    "\n",
    "def differential(f, x):\n",
    "    '''\n",
    "    数値微分を行う高階関数\n",
    "    ----------\n",
    "    f : 関数オブジェクト\n",
    "        数値微分に用いる関数\n",
    "    x : int\n",
    "        f(x)のxの値\n",
    "    '''\n",
    "    h = 1e-4                           # hの値を0.0001にする\n",
    "    return (\n",
    "        f(x+h) - f(x-h)) / (2*h)       # 数値微分して変化量を戻り値として返す\n",
    "\n",
    "def function(x):\n",
    "    '''\n",
    "    数値微分で使用する関数\n",
    "    ----------\n",
    "    x : f(x)のxの値\n",
    "    '''\n",
    "    return 0.01*x**2 + 0.1*x\n",
    "\n",
    "def draw_line(f, x):\n",
    "    '''\n",
    "    数値微分の値を傾きとする直線をプロットするラムダ式を生成する関数\n",
    "    differential()を実行する\n",
    "    ----------\n",
    "    f : 関数オブジェクト\n",
    "        数値微分に用いる関数を取得\n",
    "    x : int\n",
    "        f(x)のxの値\n",
    "\n",
    "    戻り値\n",
    "    ----------\n",
    "    lambdaオブジェクト\n",
    "        数値微分の値を傾きとする直線をプロットするためのラムダ式\n",
    "    '''\n",
    "    dff = differential(f, x)     # ① differential()で数値微分を行い、変化量を取得\n",
    "    print(dff)                   # 変化量(直線の傾き）を出力\n",
    "    y = f(x) - dff*x             # ② f(x)のy値と変化量から求めたy値との差\n",
    "    return lambda n: dff*n + y  # ③ 引数をtで受け取るラムダ式\n",
    "                                 # 「変化量 × x軸の値(t) + f(x)との誤差」\n",
    "                                 # f(x)との誤差を加えることで接線にする"
   ]
  },
  {
   "cell_type": "code",
   "execution_count": 2,
   "metadata": {},
   "outputs": [
    {
     "name": "stdout",
     "output_type": "stream",
     "text": [
      "0.1999999999990898\n"
     ]
    },
    {
     "data": {
      "image/png": "[encoded data removed]",
      "text/plain": [
       "<Figure size 432x288 with 1 Axes>"
      ]
     },
     "metadata": {
      "needs_background": "light"
     },
     "output_type": "display_data"
    }
   ],
   "source": [
    "# 実行部分\n",
    "\n",
    "x = np.arange(0.0, 20.0, 0.1)    # 0.0～20.0まで0.1刻みの等差数列を生成\n",
    "y = function(x)                  # 関数f(x)に配列xを代入し、\n",
    "                                 # 0.0から20.0までのy値のリストを取得\n",
    "\n",
    "plt.xlabel(\"x\")                  # x軸のラベルを設定\n",
    "plt.ylabel(\"f(x)\")               # y軸のラベルを設定\n",
    "\n",
    "tf = draw_line(function, 5)      # ④x=5で数値微分の値を傾きにするラムダ式を取得\n",
    "y2 = tf(x)                       # ⑤取得したラムダ式で0.0から20.0までの\n",
    "                                 # 0.1刻みのyの値を取得\n",
    "\n",
    "plt.plot(x, y2)                  # 数値微分の値を傾きとする直線をプロット\n",
    "plt.show()                       # グラフを描画"
   ]
  },
  {
   "cell_type": "code",
   "execution_count": 3,
   "metadata": {},
   "outputs": [
    {
     "name": "stdout",
     "output_type": "stream",
     "text": [
      "0.1999999999990898\n"
     ]
    },
    {
     "data": {
      "image/png": "[encoded data removed]",
      "text/plain": [
       "<Figure size 432x288 with 1 Axes>"
      ]
     },
     "metadata": {
      "needs_background": "light"
     },
     "output_type": "display_data"
    }
   ],
   "source": [
    "# 実行部分\n",
    "\n",
    "x = np.arange(0.0, 20.0, 0.1)    # 0.0～20.0まで0.1刻みの等差数列を生成\n",
    "y = function(x)                  # 関数f(x)に配列xを代入し、\n",
    "                                 # 0.0から20.0までのy値のリストを取得\n",
    "\n",
    "plt.xlabel(\"x\")                  # x軸のラベルを設定\n",
    "plt.ylabel(\"f(x)\")               # y軸のラベルを設定\n",
    "\n",
    "tf = draw_line(function, 5)      # ④x=5で数値微分の値を傾きにするラムダ式を取得\n",
    "y2 = tf(x)                       # ⑤取得したラムダ式で0.0から20.0までの\n",
    "                                 # 0.1刻みのyの値を取得\n",
    "\n",
    "plt.plot(x, y)                   # f(x)をプロット\n",
    "plt.plot(x, y2)                  # 数値微分の値を傾きとする直線をプロット\n",
    "plt.show()                       # グラフを描画\n"
   ]
  },
  {
   "cell_type": "code",
   "execution_count": null,
   "metadata": {},
   "outputs": [],
   "source": []
  }
 ],
 "metadata": {
  "kernelspec": {
   "display_name": "Python 3",
   "language": "python",
   "name": "python3"
  },
  "language_info": {
   "codemirror_mode": {
    "name": "ipython",
    "version": 3
   },
   "file_extension": ".py",
   "mimetype": "text/x-python",
   "name": "python",
   "nbconvert_exporter": "python",
   "pygments_lexer": "ipython3",
   "version": "3.8.5"
  }
 },
 "nbformat": 4,
 "nbformat_minor": 2
}
