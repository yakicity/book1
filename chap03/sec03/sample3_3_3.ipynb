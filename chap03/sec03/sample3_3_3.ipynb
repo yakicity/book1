{
 "cells": [
  {
   "cell_type": "code",
   "execution_count": 1,
   "metadata": {},
   "outputs": [],
   "source": [
    "import numpy as np # NumPyのインポート"
   ]
  },
  {
   "cell_type": "code",
   "execution_count": 2,
   "metadata": {},
   "outputs": [],
   "source": [
    "mtx = np.array([[1, 2, 3],        # (3, 3)の行列を作成\n",
    "                [4, 5, 6],\n",
    "                [7, 8, 9]],\n",
    "                dtype = float)"
   ]
  },
  {
   "cell_type": "code",
   "execution_count": 3,
   "metadata": {},
   "outputs": [
    {
     "name": "stdout",
     "output_type": "stream",
     "text": [
      "[[11. 12. 13.]\n",
      " [14. 15. 16.]\n",
      " [17. 18. 19.]]\n"
     ]
    }
   ],
   "source": [
    "print(mtx + 10)   # 足し算"
   ]
  },
  {
   "cell_type": "code",
   "execution_count": 4,
   "metadata": {},
   "outputs": [
    {
     "name": "stdout",
     "output_type": "stream",
     "text": [
      "[[-9. -8. -7.]\n",
      " [-6. -5. -4.]\n",
      " [-3. -2. -1.]]\n"
     ]
    }
   ],
   "source": [
    "print(mtx - 10)   # 引き算"
   ]
  },
  {
   "cell_type": "code",
   "execution_count": 6,
   "metadata": {},
   "outputs": [
    {
     "name": "stdout",
     "output_type": "stream",
     "text": [
      "[[ 2.  4.  6.]\n",
      " [ 8. 10. 12.]\n",
      " [14. 16. 18.]]\n"
     ]
    }
   ],
   "source": [
    "print(mtx*2)   # 乗算"
   ]
  },
  {
   "cell_type": "code",
   "execution_count": 7,
   "metadata": {},
   "outputs": [
    {
     "name": "stdout",
     "output_type": "stream",
     "text": [
      "[[0.5 1.  1.5]\n",
      " [2.  2.5 3. ]\n",
      " [3.5 4.  4.5]]\n"
     ]
    }
   ],
   "source": [
    "print(mtx/2)   # 除算"
   ]
  },
  {
   "cell_type": "code",
   "execution_count": null,
   "metadata": {},
   "outputs": [],
   "source": []
  }
 ],
 "metadata": {
  "kernelspec": {
   "display_name": "Python 3",
   "language": "python",
   "name": "python3"
  },
  "language_info": {
   "codemirror_mode": {
    "name": "ipython",
    "version": 3
   },
   "file_extension": ".py",
   "mimetype": "text/x-python",
   "name": "python",
   "nbconvert_exporter": "python",
   "pygments_lexer": "ipython3",
   "version": "3.7.7"
  }
 },
 "nbformat": 4,
 "nbformat_minor": 2
}
