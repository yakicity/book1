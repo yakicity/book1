{
 "cells": [
  {
   "cell_type": "code",
   "execution_count": 1,
   "metadata": {},
   "outputs": [],
   "source": [
    "import numpy as np               # NumPyをインポート\n",
    "\n",
    "def create_matrix(x):\n",
    "    '''データx1、x2にバイアスに対応するx0(=1)を加えた行列を作成\n",
    "    ------------------------\n",
    "    Parameters:\n",
    "      x(ndarray): x1、x2を格納した2階テンソル\n",
    "    '''\n",
    "    x0 = np.ones([x.shape[0], 1]) # バイアスに対応する1の項(x0)を生成\n",
    "                                  # 形状は(4, 1)の2階テンソル\n",
    "    return np.hstack([x0, x])    # x0の(4, 1)の2階テンソルにx1,x2の2階テンソルを\n",
    "                                  # 水平方向に連結して(4, 3)の2階テンソルを返す\n",
    "\n",
    "def sigmoid(X, parameter):\n",
    "    '''シグモイド関数\n",
    "    ------------------------\n",
    "    Parameters:\n",
    "      X(ndarray): x0、x1、x2を格納した2階テンソル\n",
    "      parameter(ndarray): バイアス、w1、w2を格納した1階テンソル\n",
    "    Returns:\n",
    "      シグモイド関数適用後のX\n",
    "    '''\n",
    "    return 1 / (1 + np.exp(-np.dot(X, parameter)))\n",
    "\n",
    "def logistic_regression(X, t):\n",
    "    '''二値分類を行う単純パーセプトロン\n",
    "    ------------------------\n",
    "    Parameters:\n",
    "        X(ndarray): x0、x1、x2が格納された2階テンソル\n",
    "        t(ndarray): 正解ラベルが格納された1階テンソル\n",
    "    '''\n",
    "    LNR = 1e-1                    # 学習率を0.1に設定\n",
    "    loop = 50                     # 学習回数\n",
    "    count = 1                     # 学習回数をカウントする変数\n",
    "    parameter = np.random.rand(3) # バイアス,w1,w2を0〜1の一様乱数で初期化\n",
    "\n",
    "    for i in range(loop):         # 学習をloop回繰り返す\n",
    "        # バイアス,w1,w2を勾配降下法で更新\n",
    "        parameter = parameter - LNR*np.dot(\n",
    "            sigmoid(X,parameter) - t, X)\n",
    "        # 最初の1回と以降10回ごとにパラメーターの値を出力\n",
    "        if (count == 1 or count % 10 == 0):\n",
    "            print('{}回: parameter = {}'.format(count, parameter))        \n",
    "        count += 1               # カウンター変数の値を1増やす\n",
    "        \n",
    "    return parameter             # 学習後のバイアス、w1、w2を返す"
   ]
  },
  {
   "cell_type": "code",
   "execution_count": 2,
   "metadata": {},
   "outputs": [
    {
     "name": "stdout",
     "output_type": "stream",
     "text": [
      "1回: parameter = [0.24334882 0.59954839 0.28255669]\n",
      "10回: parameter = [-0.7255737   0.45800199  0.20390593]\n",
      "20回: parameter = [-1.19401092  0.60584452  0.40470014]\n",
      "30回: parameter = [-1.51198817  0.7982333   0.63694006]\n",
      "40回: parameter = [-1.7802407   0.98244037  0.85221364]\n",
      "50回: parameter = [-2.02154388  1.15147686  1.04575475]\n"
     ]
    }
   ],
   "source": [
    "# ANDゲート\n",
    "# x1、x2の4セットを行列x(ndarray)に代入\n",
    "x =np.array([[0, 0], [0, 1], [1, 0], [1, 1]])\n",
    "# 正解ラベルをtに代入\n",
    "t = np.array([0, 0, 0, 1])\n",
    "# xにバイアス対応の1の項を追加した2階テンソルを作成\n",
    "X = create_matrix(x)\n",
    "# バイアス、重みの値を学習する\n",
    "parameter = logistic_regression(X, t)"
   ]
  },
  {
   "cell_type": "code",
   "execution_count": 3,
   "metadata": {},
   "outputs": [
    {
     "data": {
      "text/plain": [
       "array([0, 0, 0, 1])"
      ]
     },
     "execution_count": 3,
     "metadata": {},
     "output_type": "execute_result"
    }
   ],
   "source": [
    "# 学習した重み・バイアスを使ってANDゲートの出力を表示してみる\n",
    "# sigmoid()の戻り値が0.5以上であれば1、そうでなければ0を返す\n",
    "(sigmoid(create_matrix(np.array([[0, 0], [0, 1], [1, 0], [1, 1]])),\n",
    "         parameter  # 学習後のバイアスと重み\n",
    ") >= 0.5).astype(np.int)"
   ]
  },
  {
   "cell_type": "code",
   "execution_count": 4,
   "metadata": {},
   "outputs": [
    {
     "name": "stdout",
     "output_type": "stream",
     "text": [
      "1回: parameter = [0.26967246 0.49521791 0.82502796]\n",
      "10回: parameter = [0.49151619 0.09873724 0.37065311]\n",
      "20回: parameter = [ 0.81684735 -0.22645882 -0.00903672]\n",
      "30回: parameter = [ 1.1382736  -0.48914811 -0.31519654]\n",
      "40回: parameter = [ 1.43413399 -0.71410138 -0.57442527]\n",
      "50回: parameter = [ 1.70360676 -0.91226096 -0.79959118]\n"
     ]
    }
   ],
   "source": [
    "# NANDゲート\n",
    "# x1、x2の4セットを行列x(ndarray)に代入\n",
    "x =np.array([[0, 0], [0, 1], [1, 0], [1, 1]])\n",
    "# 正解ラベルをtに代入\n",
    "t = np.array([1, 1, 1, 0])\n",
    "# xにバイアス対応の1の項を追加した2階テンソルを作成\n",
    "X = create_matrix(x)\n",
    "# バイアス、重みの値を学習する\n",
    "parameter = logistic_regression(X, t)"
   ]
  },
  {
   "cell_type": "code",
   "execution_count": 5,
   "metadata": {},
   "outputs": [
    {
     "data": {
      "text/plain": [
       "array([1, 1, 1, 0])"
      ]
     },
     "execution_count": 5,
     "metadata": {},
     "output_type": "execute_result"
    }
   ],
   "source": [
    "# 学習した重み・バイアスを使ってNANDゲートの出力を表示してみる\n",
    "# sigmoid()の戻り値が0.5以上であれば1、そうでなければ0を返す\n",
    "(sigmoid(create_matrix(np.array([[0, 0], [0, 1], [1, 0], [1, 1]])),\n",
    "         parameter  # 学習後のバイアスと重み\n",
    ") >= 0.5).astype(np.int)"
   ]
  },
  {
   "cell_type": "code",
   "execution_count": 6,
   "metadata": {
    "scrolled": true
   },
   "outputs": [
    {
     "name": "stdout",
     "output_type": "stream",
     "text": [
      "1回: parameter = [0.65133856 0.94685687 0.76949455]\n",
      "10回: parameter = [0.46660808 1.1651788  1.00984638]\n",
      "20回: parameter = [0.27639911 1.38620315 1.25161325]\n",
      "30回: parameter = [0.10576948 1.58988468 1.47281465]\n",
      "40回: parameter = [-0.04618058  1.77918952  1.67694853]\n",
      "50回: parameter = [-0.18179364  1.95603861  1.8663688 ]\n"
     ]
    }
   ],
   "source": [
    "# ORゲート\n",
    "# x1、x2の4セットを行列x(ndarray)に代入\n",
    "x =np.array([[0, 0], [0, 1], [1, 0], [1, 1]])\n",
    "# 正解ラベルをtに代入\n",
    "t = np.array([0, 1, 1, 1])\n",
    "# xにバイアス対応の1の項を追加した2階テンソルを作成\n",
    "X = create_matrix(x)\n",
    "# バイアス、重みの値を学習する\n",
    "parameter = logistic_regression(X, t)"
   ]
  },
  {
   "cell_type": "code",
   "execution_count": 7,
   "metadata": {},
   "outputs": [
    {
     "data": {
      "text/plain": [
       "array([0, 1, 1, 1])"
      ]
     },
     "execution_count": 7,
     "metadata": {},
     "output_type": "execute_result"
    }
   ],
   "source": [
    "# 学習した重み・バイアスを使ってORゲートの出力を表示してみる\n",
    "# sigmoid()の戻り値が0.5以上であれば1、そうでなければ0を返す\n",
    "(sigmoid(create_matrix(np.array([[0, 0], [0, 1], [1, 0], [1, 1]])),\n",
    "         parameter  # 学習後のバイアスと重み\n",
    ") >= 0.5).astype(np.int)"
   ]
  },
  {
   "cell_type": "code",
   "execution_count": null,
   "metadata": {},
   "outputs": [],
   "source": []
  }
 ],
 "metadata": {
  "kernelspec": {
   "display_name": "Python 3",
   "language": "python",
   "name": "python3"
  },
  "language_info": {
   "codemirror_mode": {
    "name": "ipython",
    "version": 3
   },
   "file_extension": ".py",
   "mimetype": "text/x-python",
   "name": "python",
   "nbconvert_exporter": "python",
   "pygments_lexer": "ipython3",
   "version": "3.6.12"
  }
 },
 "nbformat": 4,
 "nbformat_minor": 2
}
