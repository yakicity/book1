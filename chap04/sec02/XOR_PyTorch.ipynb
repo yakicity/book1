{
 "cells": [
  {
   "cell_type": "code",
   "execution_count": 1,
   "metadata": {},
   "outputs": [],
   "source": [
    "'''\n",
    "1. 訓練データと正解ラベルの用意\n",
    "'''\n",
    "import numpy as np\n",
    "import torch\n",
    "\n",
    "# XORゲートの入力値　0と1の組み合わせの行列(4, 2)\n",
    "train = np.array([[0, 0], [0, 1], [1, 0], [1, 1]])\n",
    "# XORゲートの出力　正解ラベルの行列(4, 1)\n",
    "label = np.array([[0], [1], [1], [0]])\n",
    "\n",
    "# モデルに入力できるようにTensorオブジェクトに変換\n",
    "train_x = torch.Tensor(train)\n",
    "train_y = torch.Tensor(label)"
   ]
  },
  {
   "cell_type": "code",
   "execution_count": 2,
   "metadata": {},
   "outputs": [],
   "source": [
    "'''\n",
    "2. モデルの定義\n",
    "'''\n",
    "import torch.nn as nn\n",
    "\n",
    "class MLP(nn.Module):\n",
    "    '''多層パーセプトロン\n",
    "    \n",
    "    Attributes:\n",
    "      l1(Linear) : 隠れ層\n",
    "      l2(Linear) : 出力層\n",
    "      a1(Sigmoid): 隠れ層の活性化関数\n",
    "      a2(Sigmoid): 出力層の活性化関数\n",
    "    '''\n",
    "    def __init__(self, input_dim, hidden_dim, output_dim):\n",
    "        '''モデルの初期化を行う\n",
    "        \n",
    "        Parameters:\n",
    "          input_dim(int) : 入力する1データあたりの値の形状\n",
    "          hidden_dim(int): 隠れ層のユニット数\n",
    "          output_dim(int): 出力層のユニット数\n",
    "          \n",
    "        '''\n",
    "        # スーパークラスの__init__()を実行\n",
    "        super().__init__()\n",
    "        # 隠れ層、活性化関数はシグモイド\n",
    "        self.fc1 = nn.Linear(input_dim,  # 入力するデータのサイズ\n",
    "                            hidden_dim)  # 隠れ層のニューロン数                            \n",
    "        \n",
    "        # 出力層、活性化関数はシグモイド\n",
    "        self.fc2 = nn.Linear(hidden_dim, # 入力するデータのサイズ\n",
    "                                         # (＝前層のニューロン数)\n",
    "                            output_dim)  # 出力層のニューロン数\n",
    "        \n",
    "    def forward(self, x):\n",
    "        '''MLPの順伝播処理を行う\n",
    "        \n",
    "        Parameters:\n",
    "          x(ndarray(float32)):訓練データ、または検証データ\n",
    "          \n",
    "        Returns(float32):\n",
    "          出力層からの出力値    \n",
    "        '''\n",
    "        # レイヤー、活性化関数に前ユニットからの出力を入力する\n",
    "        x = self.fc1(x)\n",
    "        x = torch.sigmoid(x)\n",
    "        x = self.fc2(x)\n",
    "        x = torch.sigmoid(x)\n",
    "        return x"
   ]
  },
  {
   "cell_type": "code",
   "execution_count": 3,
   "metadata": {},
   "outputs": [
    {
     "data": {
      "text/plain": [
       "MLP(\n",
       "  (fc1): Linear(in_features=2, out_features=2, bias=True)\n",
       "  (fc2): Linear(in_features=2, out_features=1, bias=True)\n",
       ")"
      ]
     },
     "execution_count": 3,
     "metadata": {},
     "output_type": "execute_result"
    }
   ],
   "source": [
    "'''\n",
    "3. モデルの生成\n",
    "'''\n",
    "# 使用可能なデバイス(CPUまたはGPU）を取得する\n",
    "device = torch.device('cuda' if torch.cuda.is_available() else 'cpu')\n",
    "# モデルオブジェクトを生成し、使用可能なデバイスを設定する\n",
    "model = MLP(2, 2, 1).to(device)\n",
    "\n",
    "model # モデルの構造を出力"
   ]
  },
  {
   "cell_type": "code",
   "execution_count": 4,
   "metadata": {},
   "outputs": [],
   "source": [
    "'''\n",
    "4. 損失関数とオプティマイザーの生成\n",
    "'''\n",
    "import torch.optim\n",
    "\n",
    "# バイナリ用のクロスエントロピー誤差のオブジェクトを生成\n",
    "criterion = nn.BCELoss()\n",
    "# 勾配降下アルゴリズムを使用するオプティマイザーを生成\n",
    "optimizer = torch.optim.SGD(model.parameters(), lr=0.5)"
   ]
  },
  {
   "cell_type": "code",
   "execution_count": 5,
   "metadata": {},
   "outputs": [],
   "source": [
    "'''\n",
    "5. 勾配降下アルゴリズムによるパラメーターの更新処理\n",
    "'''\n",
    "def train_step(x, t):\n",
    "    '''バックプロパゲーションによるパラメーター更新を行う\n",
    "    \n",
    "    Parameters: x(ndarray(float32)):訓練データ\n",
    "                t(ndarray(float32)):正解ラベル\n",
    "                \n",
    "    Returns:\n",
    "      MLPの出力と正解ラベルのクロスエントロピー誤差\n",
    "    '''\n",
    "    model.train() # モデルを訓練(学習)モードにする\n",
    "    outputs = model(x) # モデルの出力を取得\n",
    "    loss = criterion(outputs, t) # 出力と正解ラベルの誤差から損失を取得\n",
    "    optimizer.zero_grad() # 勾配を0で初期化（累積してしまうため）\n",
    "    loss.backward()  # 逆伝播の処理(自動微分による勾配計算)\n",
    "    optimizer.step() # 勾配降下法の更新式を適用してバイアス、重みを更新\n",
    "\n",
    "    return loss"
   ]
  },
  {
   "cell_type": "code",
   "execution_count": 6,
   "metadata": {},
   "outputs": [
    {
     "name": "stdout",
     "output_type": "stream",
     "text": [
      "epoch(1000) loss: 0.6931\n",
      "epoch(2000) loss: 0.6929\n",
      "epoch(3000) loss: 0.2126\n",
      "epoch(4000) loss: 0.0209\n"
     ]
    }
   ],
   "source": [
    "'''\n",
    "6.モデルを使用して学習する\n",
    "'''\n",
    "# エポック数\n",
    "epochs = 4000\n",
    "\n",
    "# 学習を行う\n",
    "for epoch in range(epochs):\n",
    "    # 1エポックごとの損失を保持する変数\n",
    "    epoch_loss = 0.\n",
    "    \n",
    "    # torch.Tensorオブジェクトにデバイスを割り当てる\n",
    "    train_x, train_y = train_x.to(device), train_y.to(device)\n",
    "\n",
    "    # データをモデルに入力し、バイアス、重みを更新して誤差を取得\n",
    "    loss = train_step(train_x, train_y)\n",
    "    epoch_loss += loss.item()\n",
    "\n",
    "    # 1000エポックごとに結果を出力\n",
    "    if (epoch + 1) % 1000 == 0:\n",
    "        print('epoch({}) loss: {:.4f}'.format(epoch+1, epoch_loss))"
   ]
  },
  {
   "cell_type": "code",
   "execution_count": 7,
   "metadata": {},
   "outputs": [
    {
     "name": "stdout",
     "output_type": "stream",
     "text": [
      "tensor([[0.0162],\n",
      "        [0.9814],\n",
      "        [0.9814],\n",
      "        [0.0291]], grad_fn=<SigmoidBackward>)\n",
      "[[0]\n",
      " [1]\n",
      " [1]\n",
      " [0]]\n"
     ]
    }
   ],
   "source": [
    "'''\n",
    "7. 学習済みのモデルで予測する\n",
    "'''\n",
    "# 学習済みのMLPの出力\n",
    "outputs = model(train_x)\n",
    "print(outputs)\n",
    "# デバイスがCPUに設定されたTensorを取得し、これをNumPy配列に変換\n",
    "# 出力値を閾値0.5で0と1に分類する\n",
    "preds = (outputs.to('cpu').detach().numpy().copy() > 0.5\n",
    "        ).astype(np.int32)\n",
    "print(preds)"
   ]
  },
  {
   "cell_type": "code",
   "execution_count": null,
   "metadata": {},
   "outputs": [],
   "source": []
  }
 ],
 "metadata": {
  "kernelspec": {
   "display_name": "Python 3",
   "language": "python",
   "name": "python3"
  },
  "language_info": {
   "codemirror_mode": {
    "name": "ipython",
    "version": 3
   },
   "file_extension": ".py",
   "mimetype": "text/x-python",
   "name": "python",
   "nbconvert_exporter": "python",
   "pygments_lexer": "ipython3",
   "version": "3.6.12"
  }
 },
 "nbformat": 4,
 "nbformat_minor": 2
}
